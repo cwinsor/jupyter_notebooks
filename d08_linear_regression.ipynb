{
 "cells": [
  {
   "cell_type": "code",
   "execution_count": 40,
   "metadata": {},
   "outputs": [
    {
     "ename": "NameError",
     "evalue": "name 'zeros' is not defined",
     "output_type": "error",
     "traceback": [
      "\u001b[1;31m---------------------------------------------------------------------------\u001b[0m",
      "\u001b[1;31mNameError\u001b[0m                                 Traceback (most recent call last)",
      "\u001b[1;32m<ipython-input-40-1f42d13de096>\u001b[0m in \u001b[0;36m<module>\u001b[1;34m()\u001b[0m\n\u001b[0;32m      1\u001b[0m \u001b[1;32mimport\u001b[0m \u001b[0mnumpy\u001b[0m \u001b[1;32mas\u001b[0m \u001b[0mnp\u001b[0m\u001b[1;33m\u001b[0m\u001b[0m\n\u001b[1;32m----> 2\u001b[1;33m \u001b[0mprint\u001b[0m\u001b[1;33m(\u001b[0m\u001b[0mzeros\u001b[0m\u001b[1;33m(\u001b[0m\u001b[1;36m3\u001b[0m\u001b[1;33m)\u001b[0m\u001b[1;33m)\u001b[0m\u001b[1;33m\u001b[0m\u001b[0m\n\u001b[0m\u001b[0;32m      3\u001b[0m \u001b[1;33m\u001b[0m\u001b[0m\n\u001b[0;32m      4\u001b[0m \u001b[1;31m#npa = np.array(zeros(3,3,3))\u001b[0m\u001b[1;33m\u001b[0m\u001b[1;33m\u001b[0m\u001b[0m\n\u001b[0;32m      5\u001b[0m \u001b[1;31m#                [0.5, -0.8],\u001b[0m\u001b[1;33m\u001b[0m\u001b[1;33m\u001b[0m\u001b[0m\n",
      "\u001b[1;31mNameError\u001b[0m: name 'zeros' is not defined"
     ]
    }
   ],
   "source": [
    "import numpy as np\n",
    "print(zeros(3))\n",
    "\n",
    "#npa = np.array(zeros(3,3,3))\n",
    "#                [0.5, -0.8],\n",
    "#                [0.7, -0.2],\n",
    "#                [1.0,  0.3],\n",
    "#                [1.2,  1.0],\n",
    "#                [1.5,  1.8],\n",
    "#                [1.7,  2.2],\n",
    "#                [2.0,  3.2],\n",
    "##                [2.4,  4.8],\n",
    " #               [2.7,  5.1]])\n",
    "\n",
    "#npaa = npa[:,np.newaxis]\n",
    "\n",
    "#print(npa)\n",
    "#print(npa[:,0])\n",
    "#npa[:,2] = npa[:,1]+np.random.random()\n",
    "\n"
   ]
  },
  {
   "cell_type": "code",
   "execution_count": 39,
   "metadata": {},
   "outputs": [
    {
     "name": "stdout",
     "output_type": "stream",
     "text": [
      "[[ 0.3 -1.1]\n",
      " [ 0.5 -0.8]\n",
      " [ 0.7 -0.2]\n",
      " [ 1.   0.3]\n",
      " [ 1.2  1. ]\n",
      " [ 1.5  1.8]\n",
      " [ 1.7  2.2]\n",
      " [ 2.   3.2]\n",
      " [ 2.4  4.8]\n",
      " [ 2.7  5.1]]\n",
      "[ 0.3  0.5  0.7  1.   1.2  1.5  1.7  2.   2.4  2.7]\n"
     ]
    }
   ],
   "source": [
    "import numpy as np\n",
    "# Generate some data\n",
    "# List is part of the Python Standard Library\n",
    "# Numpy Array is part of numpy\n",
    "npa = np.array([[0.3, -1.1],\n",
    "                [0.5, -0.8],\n",
    "                [0.7, -0.2],\n",
    "                [1.0,  0.3],\n",
    "                [1.2,  1.0],\n",
    "                [1.5,  1.8],\n",
    "                [1.7,  2.2],\n",
    "                [2.0,  3.2],\n",
    "                [2.4,  4.8],\n",
    "                [2.7,  5.1]])\n",
    "\n",
    "npaa = npa[:,np.newaxis]\n",
    "\n",
    "print(npa)\n",
    "print(npa[:,0])\n",
    "#npa[:,2] = npa[:,1]+np.random.random()"
   ]
  },
  {
   "cell_type": "code",
   "execution_count": 34,
   "metadata": {},
   "outputs": [
    {
     "data": {
      "image/png": "[encoded data removed]",
      "text/plain": [
       "<matplotlib.figure.Figure at 0x270ae0a4b70>"
      ]
     },
     "metadata": {},
     "output_type": "display_data"
    }
   ],
   "source": [
    "# Matplotlib is a plotting library\n",
    "import matplotlib.pyplot as plt\n",
    "plt.plot(npa[:,0], npa[:,1])\n",
    "plt.xlabel('x axis label')\n",
    "plt.ylabel('y axis label')\n",
    "plt.title('This is the Title')\n",
    "plt.show()"
   ]
  },
  {
   "cell_type": "code",
   "execution_count": 28,
   "metadata": {},
   "outputs": [
    {
     "name": "stdout",
     "output_type": "stream",
     "text": [
      "                            OLS Regression Results                            \n",
      "==============================================================================\n",
      "Dep. Variable:                      y   R-squared:                       0.839\n",
      "Model:                            OLS   Adj. R-squared:                  0.821\n",
      "Method:                 Least Squares   F-statistic:                     46.82\n",
      "Date:                Tue, 30 Jan 2018   Prob (F-statistic):           7.53e-05\n",
      "Time:                        12:40:59   Log-Likelihood:                -9.7373\n",
      "No. Observations:                  10   AIC:                             21.47\n",
      "Df Residuals:                       9   BIC:                             21.78\n",
      "Df Model:                           1                                         \n",
      "Covariance Type:            nonrobust                                         \n",
      "==============================================================================\n",
      "                 coef    std err          t      P>|t|      [0.025      0.975]\n",
      "------------------------------------------------------------------------------\n",
      "x1             0.5510      0.081      6.843      0.000       0.369       0.733\n",
      "==============================================================================\n",
      "Omnibus:                        1.597   Durbin-Watson:                   0.094\n",
      "Prob(Omnibus):                  0.450   Jarque-Bera (JB):                1.123\n",
      "Skew:                          -0.703   Prob(JB):                        0.570\n",
      "Kurtosis:                       2.153   Cond. No.                         1.00\n",
      "==============================================================================\n",
      "\n",
      "Warnings:\n",
      "[1] Standard Errors assume that the covariance matrix of the errors is correctly specified.\n"
     ]
    },
    {
     "name": "stderr",
     "output_type": "stream",
     "text": [
      "C:\\Users\\CWinsor\\AppData\\Local\\Continuum\\anaconda3\\lib\\site-packages\\scipy\\stats\\stats.py:1334: UserWarning: kurtosistest only valid for n>=20 ... continuing anyway, n=10\n",
      "  \"anyway, n=%i\" % int(n))\n"
     ]
    }
   ],
   "source": [
    "#Use \"statsmodel\" to perform linear regression\n",
    "import statsmodels.api as sm\n",
    "results = sm.OLS( npa[:,1], npa[:,0]).fit()\n",
    "print(results.summary())"
   ]
  },
  {
   "cell_type": "code",
   "execution_count": 29,
   "metadata": {},
   "outputs": [
    {
     "name": "stdout",
     "output_type": "stream",
     "text": [
      "                            OLS Regression Results                            \n",
      "==============================================================================\n",
      "Dep. Variable:                      y   R-squared:                       0.839\n",
      "Model:                            OLS   Adj. R-squared:                  0.821\n",
      "Method:                 Least Squares   F-statistic:                     46.82\n",
      "Date:                Tue, 30 Jan 2018   Prob (F-statistic):           7.53e-05\n",
      "Time:                        12:43:53   Log-Likelihood:                -14.819\n",
      "No. Observations:                  10   AIC:                             31.64\n",
      "Df Residuals:                       9   BIC:                             31.94\n",
      "Df Model:                           1                                         \n",
      "Covariance Type:            nonrobust                                         \n",
      "==============================================================================\n",
      "                 coef    std err          t      P>|t|      [0.025      0.975]\n",
      "------------------------------------------------------------------------------\n",
      "x1             1.5224      0.222      6.843      0.000       1.019       2.026\n",
      "==============================================================================\n",
      "Omnibus:                        1.346   Durbin-Watson:                   0.148\n",
      "Prob(Omnibus):                  0.510   Jarque-Bera (JB):                0.983\n",
      "Skew:                           0.585   Prob(JB):                        0.612\n",
      "Kurtosis:                       2.004   Cond. No.                         1.00\n",
      "==============================================================================\n",
      "\n",
      "Warnings:\n",
      "[1] Standard Errors assume that the covariance matrix of the errors is correctly specified.\n"
     ]
    },
    {
     "name": "stderr",
     "output_type": "stream",
     "text": [
      "C:\\Users\\CWinsor\\AppData\\Local\\Continuum\\anaconda3\\lib\\site-packages\\scipy\\stats\\stats.py:1334: UserWarning: kurtosistest only valid for n>=20 ... continuing anyway, n=10\n",
      "  \"anyway, n=%i\" % int(n))\n"
     ]
    }
   ],
   "source": []
  },
  {
   "cell_type": "code",
   "execution_count": null,
   "metadata": {
    "collapsed": true
   },
   "outputs": [],
   "source": []
  }
 ],
 "metadata": {
  "kernelspec": {
   "display_name": "Python 3",
   "language": "python",
   "name": "python3"
  },
  "language_info": {
   "codemirror_mode": {
    "name": "ipython",
    "version": 3
   },
   "file_extension": ".py",
   "mimetype": "text/x-python",
   "name": "python",
   "nbconvert_exporter": "python",
   "pygments_lexer": "ipython3",
   "version": "3.6.3"
  }
 },
 "nbformat": 4,
 "nbformat_minor": 2
}
