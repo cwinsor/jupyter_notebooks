{
 "cells": [
  {
   "cell_type": "code",
   "execution_count": null,
   "metadata": {},
   "outputs": [],
   "source": [
    "import getpass\n",
    "\n",
    "def get_username_password():\n",
    "    username = input(\"JAMA username>\")\n",
    "    password = getpass.getpass(\"JAMA password>\")\n",
    "    return[username,password]\n",
    "\n",
    "\n",
    "def get(url):\n",
    "    response = requests.get(url, auth=(username, password))\n",
    "    return json.loads(response.text)\n"
   ]
  }
 ],
 "metadata": {
  "kernelspec": {
   "display_name": "Python 3",
   "language": "python",
   "name": "python3"
  },
  "language_info": {
   "codemirror_mode": {
    "name": "ipython",
    "version": 3
   },
   "file_extension": ".py",
   "mimetype": "text/x-python",
   "name": "python",
   "nbconvert_exporter": "python",
   "pygments_lexer": "ipython3",
   "version": "3.6.4"
  }
 },
 "nbformat": 4,
 "nbformat_minor": 2
}
