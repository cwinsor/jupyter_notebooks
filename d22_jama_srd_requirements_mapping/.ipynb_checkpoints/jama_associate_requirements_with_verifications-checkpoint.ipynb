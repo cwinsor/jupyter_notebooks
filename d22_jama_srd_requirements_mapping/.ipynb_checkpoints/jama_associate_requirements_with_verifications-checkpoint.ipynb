{
 "cells": [
  {
   "cell_type": "code",
   "execution_count": null,
   "metadata": {},
   "outputs": [],
   "source": [
    "### The notebook was used on a JAMA project to associate\n",
    "### with each Verification, a Software Requirement (Technical Requirement in JAMA terminology).\n",
    "### It is a \"upstream\" link from Verification to Technical Requirement.\n",
    "#\n",
    "# Good references are:\n",
    "# https://community.jamasoftware.com/communities/community-home/digestviewer/viewthread?MessageKey=1bb49b4b-f5d4-4b49-bfa7-9527e6c45f90&CommunityKey=6c432c09-9859-4cd3-8d2c-ea0a02a8a43d&tab=digestviewer#bm1bb49b4b-f5d4-4b49-bfa7-9527e6c45f90\n",
    "# https://github.com/JamaSoftware/REST-References/\n",
    "# https://rapidmicrobiosystems.jamacloud.com/api-docs/\n",
    "# https://rapidmicrobiosystems.jamacloud.com/api-docs/#/\n",
    "                "
   ]
  },
  {
   "cell_type": "code",
   "execution_count": 39,
   "metadata": {},
   "outputs": [
    {
     "name": "stdout",
     "output_type": "stream",
     "text": [
      "done\n"
     ]
    }
   ],
   "source": [
    "from openpyxl import Workbook\n",
    "from openpyxl import load_workbook\n",
    "import re\n",
    "\n",
    "### First we read an Excel spreadsheet that identifies the desired links\n",
    "\n",
    "file_name_read = 'C:/Users/CWinsor/Documents/jupyter_notebooks/d22_jama_srd_requirements_mapping/source/Verifications.xlsm'\n",
    "sheet_name_read = 'Verifications'\n",
    "\n",
    "wb_r = load_workbook(file_name_read)\n",
    "ws_r = wb_r[sheet_name_read]\n",
    "\n",
    "for row in range(5, ws_r.max_row+1):\n",
    "    #print('read/process row ' + str(row))\n",
    "\n",
    "    ## take in row from excel\n",
    "    rup_type = str(ws_r.cell(column=1, row=row).value)\n",
    "    rup_id   = str(ws_r.cell(column=2, row=row).value)\n",
    "    rup_name = str(ws_r.cell(column=3, row=row).value)\n",
    "    rup_desc = str(ws_r.cell(column=4, row=row).value)\n",
    "    \n",
    "    r_type = str(ws_r.cell(column=5, row=row).value)\n",
    "    r_id   = str(ws_r.cell(column=6, row=row).value)\n",
    "    r_name = str(ws_r.cell(column=7, row=row).value)\n",
    "    r_desc = str(ws_r.cell(column=8, row=row).value)\n",
    "    \n",
    "    #print(\"foo---|\" + r_id + '|')\n",
    " \n",
    "print('done')\n",
    "\n"
   ]
  },
  {
   "cell_type": "code",
   "execution_count": 40,
   "metadata": {},
   "outputs": [
    {
     "name": "stdout",
     "output_type": "stream",
     "text": [
      "JAMA username>chris.winsor\n",
      "JAMA password>········\n"
     ]
    }
   ],
   "source": [
    "### Log in to JAMA\n",
    "\n",
    "import getpass\n",
    "\n",
    "base_url = \"https://rapidmicrobiosystems.jamacloud.com/rest/latest/\"\n",
    "#https://rapidmicrobiosystems.jamacloud.com/perspective.req#/testCases/10656?projectId=50\n",
    "#base_url = \"{base url}/rest/latest/\"\n",
    "\n",
    "# Username and password should be stored according\n",
    "# to your organization's security policies\n",
    "username = input(\"JAMA username>\")\n",
    "password = getpass.getpass(\"JAMA password>\")\n",
    "\n",
    "def get(url):\n",
    "    response = requests.get(url, auth=(username, password))\n",
    "    return json.loads(response.text)\n",
    "\n"
   ]
  },
  {
   "cell_type": "code",
   "execution_count": null,
   "metadata": {},
   "outputs": [],
   "source": [
    "import json\n",
    "\n",
    "def add_association(item_id, to_item_id):\n",
    "    \n",
    "    item = get_item(item_id)\n",
    "\n",
    "    "
   ]
  },
  {
   "cell_type": "code",
   "execution_count": 57,
   "metadata": {},
   "outputs": [
    {
     "name": "stdout",
     "output_type": "stream",
     "text": [
      "read/process row 628\n",
      "---\n",
      "{'id': 9384, 'documentKey': 'GDP-SET-25', 'globalId': 'GID-48396', 'itemType': 31, 'project': 50, 'createdDate': '2018-02-20T19:27:42.000+0000', 'modifiedDate': '2018-02-20T19:27:42.000+0000', 'lastActivityDate': '2018-02-21T17:02:52.000+0000', 'createdBy': 14, 'modifiedBy': 14, 'fields': {'setKey': 'Verfication', 'globalId': 'GID-48396', 'documentKey': 'GDP-SET-25', 'name': 'Verifications', 'description': ''}, 'resources': {'self': {'allowed': ['GET', 'PUT', 'PATCH', 'DELETE']}}, 'location': {'sortOrder': 3, 'globalSortOrder': 972673143, 'sequence': '1.10.4', 'parent': {'item': 9285}}, 'lock': {'locked': False}, 'childItemType': 89, 'type': 'items'}\n",
      "---\n",
      "GDP-Verfication-1866\n",
      "---\n",
      "{'id': 28544, 'documentKey': 'GDP-Verfication-1866', 'globalId': 'GID-54408', 'itemType': 89, 'project': 50, 'createdDate': '2018-07-26T13:47:49.000+0000', 'modifiedDate': '2018-07-26T15:21:58.000+0000', 'lastActivityDate': '2018-07-26T15:51:07.000+0000', 'createdBy': 15, 'modifiedBy': 15, 'fields': {'documentKey': 'GDP-Verfication-1866', 'globalId': 'GID-54408', 'name': 'Test the display of LIMS ID in User Activity in Audit Report ', 'growthdirect_test_area$89': 'Audit Report, User Activity', 'test_type$89': 597, 'description': '<p>This test is to test 20 character LIMS ID with Multiple 20-character Sample IDs</p>\\n\\n<p>&nbsp;</p>\\n\\n<p><img alt=\"\" height=\"750\" src=\"https://rapidmicrobiosystems.jamacloud.com/attachment/885/LIMS%20Simulator.png\" width=\"1000\" /></p>\\n', 'reviewer$89': 583, 'second_reviewer$89': 585, 'status': 292, 'environment$89': 606, 'assignedTo': 15, 'testCaseStatus': 'PASSED', 'testCaseSteps': [{'action': 'Bridge:\\n1. Launch LIMS simulator\\n2. LIMS ID field: enter LIMS ID with 20 character long\\n3. Sample ID field: S1, S2, S3,S4,S5,S6,S7,S8,S9,S10......S50\\n4. Click Create \"Request\" button and Click \"SendRequest\" button to generate a LIMS Request file\\n5. Wait for the request file to be consumed by one of clustered GrowthDirect instruments\\n6. Go to GrowthDirect App, home page, order tests appear\\n7. Go to LIMS page, Print LIMS labels, print out those LIMS labels', 'expectedResult': '</p>Verify that>  Audit Report, User Activity has LIMS ID displayed correctly', 'notes': ''}], 'verification_method$89': 525, 'test_case_priority$89': 559, 'selected_for_rerun$89': False, 'system_software_version$89': 629, 'precise_controller_version$89': 614, 'vision_software_version$89': 601}, 'resources': {'self': {'allowed': ['GET', 'PUT', 'PATCH', 'DELETE']}}, 'location': {'sortOrder': 0, 'globalSortOrder': 1981628240, 'sequence': '1.10.4.74.1', 'parent': {'item': 23679}}, 'lock': {'locked': False, 'lastLockedDate': '2018-07-26T13:49:37.000+0000'}, 'type': 'items'}\n",
      "---\n"
     ]
    }
   ],
   "source": [
    "### Iterate through the Verifications.\n",
    "###   Find the Verification item in JAMA.\n",
    "###   See if the upstream association is already there (don't duplicate it).\n",
    "#     If not, add it, and write back to JAMA.\n",
    "\n",
    "# This example makes use of the excellent library at python-requests.org\n",
    "import requests\n",
    "import random\n",
    "import urllib\n",
    "import json\n",
    "import sys\n",
    "\n",
    "jamapath = 'C:/Users/CWinsor/Documents/jupyter_notebooks/d10_JAMA_common'\n",
    "#sys.path.remove(jamapath)\n",
    "sys.path.append(jamapath)\n",
    "\n",
    "import JAMA_common as jcom\n",
    "#import mymodule\n",
    "import imp\n",
    "imp.reload(jcom)\n",
    "\n",
    "\n",
    "\n",
    "#for row in range(5, ws_r.max_row+1):\n",
    "for row in range(628, 629):\n",
    "    print('read/process row ' + str(row))\n",
    "\n",
    "    ## take in row from excel\n",
    "    rup_type = str(ws_r.cell(column=1, row=row).value)\n",
    "    rup_id   = str(ws_r.cell(column=2, row=row).value)\n",
    "    rup_name = str(ws_r.cell(column=3, row=row).value)\n",
    "    rup_desc = str(ws_r.cell(column=4, row=row).value)\n",
    "    \n",
    "    r_type = str(ws_r.cell(column=5, row=row).value)\n",
    "    r_id   = str(ws_r.cell(column=6, row=row).value)\n",
    "    r_name = str(ws_r.cell(column=7, row=row).value)\n",
    "    r_desc = str(ws_r.cell(column=8, row=row).value)\n",
    "    \n",
    "    # find the \"verifications\" item - the tests will be in that\n",
    "    # get one of the tests by name - then look for parent ID\n",
    "    print(\"---\")\n",
    "    item = jcom.get_item(base_url, 9384, username, password)\n",
    "    print(item)\n",
    "    print(\"---\")\n",
    "    print(r_id)\n",
    "    print(\"---\")\n",
    "    item_id = jcom.get_id(base_url, r_id, username, password)\n",
    "    item = jcom.get_item(base_url, item_id, username, password)\n",
    "    print(item)\n",
    "    print(\"---\")\n",
    "\n",
    "\n",
    "\n"
   ]
  },
  {
   "cell_type": "code",
   "execution_count": 60,
   "metadata": {},
   "outputs": [
    {
     "name": "stdout",
     "output_type": "stream",
     "text": [
      "{'meta': {'status': 'OK', 'timestamp': '2018-07-27T19:05:34.822+0000', 'pageInfo': {'startIndex': 0, 'resultCount': 1, 'totalResults': 1}}, 'links': {'data.createdBy': {'type': 'users', 'href': 'https://rapidmicrobiosystems.jamacloud.com/rest/latest/users/{data.createdBy}'}, 'data.modifiedBy': {'type': 'users', 'href': 'https://rapidmicrobiosystems.jamacloud.com/rest/latest/users/{data.modifiedBy}'}, 'data.fields.status': {'type': 'picklistoptions', 'href': 'https://rapidmicrobiosystems.jamacloud.com/rest/latest/picklistoptions/{data.fields.status}'}, 'data.fields.requirement_type$69': {'type': 'picklistoptions', 'href': 'https://rapidmicrobiosystems.jamacloud.com/rest/latest/picklistoptions/{data.fields.requirement_type$69}'}, 'data.location.parent.item': {'type': 'items', 'href': 'https://rapidmicrobiosystems.jamacloud.com/rest/latest/items/{data.location.parent.item}'}, 'data.fields.verification_methods$69': {'type': 'picklistoptions', 'href': 'https://rapidmicrobiosystems.jamacloud.com/rest/latest/picklistoptions/{data.fields.verification_methods$69}'}, 'data.project': {'type': 'projects', 'href': 'https://rapidmicrobiosystems.jamacloud.com/rest/latest/projects/{data.project}'}, 'data.itemType': {'type': 'itemtypes', 'href': 'https://rapidmicrobiosystems.jamacloud.com/rest/latest/itemtypes/{data.itemType}'}, 'data.fields.requirement_domain$69': {'type': 'picklistoptions', 'href': 'https://rapidmicrobiosystems.jamacloud.com/rest/latest/picklistoptions/{data.fields.requirement_domain$69}'}}, 'data': [{'id': 12854, 'documentKey': 'GDP-GDSTR-22', 'globalId': 'GID-50283', 'itemType': 69, 'project': 50, 'createdDate': '2018-03-07T23:18:09.000+0000', 'modifiedDate': '2018-03-07T23:18:09.000+0000', 'lastActivityDate': '2018-07-26T15:51:07.000+0000', 'createdBy': 14, 'modifiedBy': 14, 'fields': {'documentKey': 'GDP-GDSTR-22', 'globalId': 'GID-50283', 'name': 'Display LIMS ID instead of SN', 'description': 'For Audit reports, the System shall have ability to display LIMS ID instead of cassette SN.', 'status': 292, 'requirement_type$69': 529, 'requirement_domain$69': [542], 'verification_methods$69': [525], 'reference_keys$69': '1016, 3563'}, 'resources': {'self': {'allowed': ['GET', 'PUT', 'PATCH', 'DELETE']}}, 'location': {'sortOrder': 14, 'globalSortOrder': 684153756, 'sequence': '1.6.6.15', 'parent': {'item': 8562}}, 'lock': {'locked': False}, 'type': 'items'}]}\n"
     ]
    }
   ],
   "source": [
    "\n",
    "import requests\n",
    "import json\n",
    "\n",
    "print(\"-------------\")\n",
    "full_url = \"https://rapidmicrobiosystems.jamacloud.com/rest/latest/items/28544/upstreamrelated\"\n",
    "response  = requests.get(full_url, auth=(username, password))\n",
    "responseJ = json.loads(response.text)\n",
    "print(responseJ)\n",
    "print(\"-------------\")\n",
    "full_url = \"https://rapidmicrobiosystems.jamacloud.com/rest/latest/items/28544/upstreamrelationships\"\n",
    "response  = requests.get(full_url, auth=(username, password))\n",
    "responseJ = json.loads(response.text)\n",
    "print(responseJ)\n",
    "\n"
   ]
  }
 ],
 "metadata": {
  "kernelspec": {
   "display_name": "Python 3",
   "language": "python",
   "name": "python3"
  },
  "language_info": {
   "codemirror_mode": {
    "name": "ipython",
    "version": 3
   },
   "file_extension": ".py",
   "mimetype": "text/x-python",
   "name": "python",
   "nbconvert_exporter": "python",
   "pygments_lexer": "ipython3",
   "version": "3.6.4"
  }
 },
 "nbformat": 4,
 "nbformat_minor": 2
}
