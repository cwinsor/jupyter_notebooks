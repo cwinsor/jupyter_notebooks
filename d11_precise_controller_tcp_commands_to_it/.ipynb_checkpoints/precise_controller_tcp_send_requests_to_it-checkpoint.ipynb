{
 "cells": [
  {
   "cell_type": "code",
   "execution_count": 1,
   "metadata": {},
   "outputs": [],
   "source": [
    "import socket\n",
    "\n",
    "TCP_IP = '192.168.0.1'\n",
    "TCP_PORT = 1234\n",
    "BUFFER_SIZE = 1024\n",
    "\n",
    "def print_msg(MESSAGE):\n",
    "    MESSAGE = MESSAGE\n",
    "    print(\"this is the message\" + MESSAGE)\n",
    "    \n",
    "\n",
    "def send_rcv(MESSAGE):\n",
    "    s = socket.socket(socket.AF_INET, socket.SOCK_STREAM)\n",
    "    s.connect((TCP_IP, TCP_PORT))\n",
    "    MESSAGE = MESSAGE + '\\r'\n",
    "    s.send(MESSAGE.encode('ascii'))\n",
    "    data = s.recv(BUFFER_SIZE)\n",
    "    s.close()\n",
    "    print(\"received data:\", data)\n",
    "    "
   ]
  },
  {
   "cell_type": "code",
   "execution_count": null,
   "metadata": {},
   "outputs": [],
   "source": [
    "send_rcv('IOQ_HOME,IOQ,001,')\n"
   ]
  },
  {
   "cell_type": "code",
   "execution_count": 2,
   "metadata": {},
   "outputs": [
    {
     "name": "stdout",
     "output_type": "stream",
     "text": [
      "received data: b''\n"
     ]
    }
   ],
   "source": [
    "send_rcv('IOQ_UNLOAD,IOQ,3,002,')"
   ]
  }
 ],
 "metadata": {
  "kernelspec": {
   "display_name": "Python 3",
   "language": "python",
   "name": "python3"
  },
  "language_info": {
   "codemirror_mode": {
    "name": "ipython",
    "version": 3
   },
   "file_extension": ".py",
   "mimetype": "text/x-python",
   "name": "python",
   "nbconvert_exporter": "python",
   "pygments_lexer": "ipython3",
   "version": "3.6.4"
  }
 },
 "nbformat": 4,
 "nbformat_minor": 2
}
