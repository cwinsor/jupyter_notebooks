{
 "cells": [
  {
   "cell_type": "code",
   "execution_count": null,
   "metadata": {
    "collapsed": true
   },
   "outputs": [],
   "source": []
  },
  {
   "cell_type": "code",
   "execution_count": null,
   "metadata": {
    "collapsed": true
   },
   "outputs": [],
   "source": []
  },
  {
   "cell_type": "code",
   "execution_count": null,
   "metadata": {
    "collapsed": true
   },
   "outputs": [],
   "source": [
    "#  Python 3 and Numpy tutorial from\n",
    "#  http://cs231n.github.io/python-numpy-tutorial/\n",
    "#  It was included with Stanford University's\n",
    "#  \"convolutional Neural Network\" course\n",
    "#  http://cs231n.stanford.edu/"
   ]
  },
  {
   "cell_type": "code",
   "execution_count": null,
   "metadata": {
    "collapsed": true
   },
   "outputs": [],
   "source": [
    "##  List defined using        []     ->[a,b,c,d,e...]\n",
    "##  Dictionary defined using  {a:b,} ->  {a:b, c:d,}\n",
    "##  Set defined using         {}     ->  {a,b,c,d,e...}\n",
    "##  Tuple defined using       ()     ->  (a,b,c,d,e,f...)\n",
    "\n",
    "## List - can use enumerate(list)    IS ORDERED\n",
    "## Dictionary - can dictionary.items():\n",
    "## Set - can use enumerate(set)      NOT ORDERED\n",
    "## Tuple - can use enumerate\n"
   ]
  },
  {
   "cell_type": "code",
   "execution_count": 7,
   "metadata": {},
   "outputs": [
    {
     "name": "stdout",
     "output_type": "stream",
     "text": [
      "<class 'int'>\n",
      "3\n",
      "4\n",
      "<class 'float'>\n",
      "2.0\n",
      "5.0\n"
     ]
    }
   ],
   "source": [
    "# integer and floats\n",
    "x = 3\n",
    "print(type(x))\n",
    "print(x)\n",
    "print(x+1)\n",
    "y = 2.0\n",
    "print(type(y))\n",
    "print(y)\n",
    "print(x+y)"
   ]
  },
  {
   "cell_type": "code",
   "execution_count": 8,
   "metadata": {},
   "outputs": [
    {
     "name": "stdout",
     "output_type": "stream",
     "text": [
      "<class 'bool'>\n",
      "False\n",
      "True\n",
      "False\n",
      "True\n"
     ]
    }
   ],
   "source": [
    "# Boolean logic\n",
    "t = True\n",
    "f = False\n",
    "print(type(t))\n",
    "print(t and f)\n",
    "print(t or f)\n",
    "print(not t)\n",
    "print(t !=f)"
   ]
  },
  {
   "cell_type": "code",
   "execution_count": 9,
   "metadata": {},
   "outputs": [
    {
     "name": "stdout",
     "output_type": "stream",
     "text": [
      "hello\n",
      "5\n",
      "hello world\n",
      "hello world 12\n"
     ]
    }
   ],
   "source": [
    "# Strings\n",
    "hello = 'hello'\n",
    "world = \"world\"\n",
    "print(hello)\n",
    "print(len(hello))\n",
    "hw = hello + \" \" + world\n",
    "print(hw)\n",
    "hw12 = '%s %s %d' % (hello, world, 12)   # sprintf style string format\n",
    "print(hw12)"
   ]
  },
  {
   "cell_type": "code",
   "execution_count": 10,
   "metadata": {},
   "outputs": [
    {
     "name": "stdout",
     "output_type": "stream",
     "text": [
      "Hello\n",
      "HELLO\n",
      "  hello\n",
      " hello \n",
      "he(ell)(ell)o\n",
      "world\n"
     ]
    }
   ],
   "source": [
    "# String object methods\n",
    "s = \"hello\"\n",
    "print(s.capitalize())\n",
    "print(s.upper())\n",
    "print(s.rjust(7))\n",
    "print(s.center(7))\n",
    "print(s.replace('l', '(ell)'))\n",
    "print('  world '.strip())\n"
   ]
  },
  {
   "cell_type": "markdown",
   "metadata": {},
   "source": [
    "## List "
   ]
  },
  {
   "cell_type": "code",
   "execution_count": 2,
   "metadata": {},
   "outputs": [
    {
     "name": "stdout",
     "output_type": "stream",
     "text": [
      "<class 'list'>\n",
      "3\n",
      "<class 'int'>\n",
      "[3, 1, 2] 2\n",
      "2\n",
      "3\n",
      "[3, 1, 'foo']\n",
      "[3, 1, 'foo', 'bar']\n",
      "bar [3, 1, 'foo']\n"
     ]
    }
   ],
   "source": [
    "# List Container\n",
    "# List is equivalent of an array but is resizable and\n",
    "# can contain elements of different types\n",
    "xs = [3, 1, 2]\n",
    "print(type(xs))\n",
    "print(len(xs))\n",
    "print(type(xs[0]))\n",
    "print(xs, xs[2])\n",
    "print(xs[-1])\n",
    "print(xs[-3])\n",
    "xs[2]=\"foo\"\n",
    "print(xs)\n",
    "xs.append(\"bar\")\n",
    "print(xs)\n",
    "x = xs.pop()\n",
    "print(x,xs)"
   ]
  },
  {
   "cell_type": "code",
   "execution_count": 33,
   "metadata": {},
   "outputs": [
    {
     "name": "stdout",
     "output_type": "stream",
     "text": [
      "[0, 1, 2, 3, 4]\n",
      "[2, 3, 4]\n",
      "[0, 1]\n",
      "[0, 1, 2, 3, 4]\n",
      "[0, 1, 2, 3]\n",
      "[0, 1, 8, 9, 4]\n",
      "3\n",
      "[2, 3]\n"
     ]
    }
   ],
   "source": [
    "# List Slicing\n",
    "nums = list(range(5))\n",
    "print(nums)\n",
    "print(nums[2:])\n",
    "print(nums[:2])\n",
    "print(nums[:])\n",
    "print(nums[:-1])\n",
    "nums[2:4] = [8,9]\n",
    "print(nums)\n",
    "\n",
    "# The classes appear to be  \"range\" and \"list\". \n",
    "# List can take a range as a constructor\n",
    "# Slicing is an operator on List with [x:y]  (inclusive:exclusive)\n",
    "x=list(range(1,5))\n",
    "print(x[2])\n",
    "print(x[1:3])"
   ]
  },
  {
   "cell_type": "code",
   "execution_count": 94,
   "metadata": {},
   "outputs": [
    {
     "name": "stdout",
     "output_type": "stream",
     "text": [
      "cat\n",
      "dog\n",
      "monkey\n",
      "1: cat\n",
      "2: dog\n",
      "3: monkey\n",
      "[4, 36]\n"
     ]
    }
   ],
   "source": [
    "# List - loop traditional\n",
    "animals =[ \"cat\", \"dog\", \"monkey\"]\n",
    "for a in animals:\n",
    "    print(a)\n",
    "\n",
    "# List - loop using \"enumerate\"\n",
    "for idx,animal in enumerate(animals):\n",
    "    print('%d: %s' % (idx + 1, animal))\n",
    "\n",
    "# Comprehension using one list to create another List\n",
    "nums = [1,2,3,5,6]\n",
    "numsSquared = [x ** 2 for x in nums if x%2 == 0 ]\n",
    "print(numsSquared)"
   ]
  },
  {
   "cell_type": "markdown",
   "metadata": {},
   "source": [
    "## Dictionary\n",
    "https://docs.python.org/3.5/library/stdtypes.html#dict"
   ]
  },
  {
   "cell_type": "code",
   "execution_count": 16,
   "metadata": {},
   "outputs": [
    {
     "name": "stdout",
     "output_type": "stream",
     "text": [
      "<class 'dict'>\n",
      "3\n",
      "dict_keys(['dog', 'cat', 'car'])\n",
      "cute\n",
      "True\n",
      "yowza!\n"
     ]
    }
   ],
   "source": [
    "# Dictionary\n",
    "d = {'cat':\"cute\", \"dog\": \"furry\", \"car\": 5}\n",
    "print(type(d))\n",
    "print(len(d))\n",
    "print(d.keys())\n",
    "\n",
    "print(d[\"cat\"])\n",
    "print(\"cat\" in d)\n",
    "print(d.get(\"monkey\",\"yowza!\"))\n",
    "#d.add({8:\"blah\", 2.3:\"foo\", \"bar\":3.2})"
   ]
  },
  {
   "cell_type": "code",
   "execution_count": 95,
   "metadata": {},
   "outputs": [
    {
     "name": "stdout",
     "output_type": "stream",
     "text": [
      "cat has 4 legs\n",
      "spider has 8 legs\n",
      "person has 2 legs\n",
      "cat has 4 legs\n",
      "spider has 8 legs\n",
      "person has 2 legs\n",
      "{3: 13}\n"
     ]
    }
   ],
   "source": [
    "# Dictionary - loop traditional\n",
    "d = {\"person\": 2, \"cat\":4, \"spider\": 8}\n",
    "for animal in d:\n",
    "    legs = d[animal]\n",
    "    print(\"%s has %d legs\" % (animal, legs))\n",
    "    \n",
    "# Dictionary - loop using .items()\n",
    "d = {\"person\": 2, \"cat\":4, \"spider\":8}\n",
    "for animal,legs in d.items():\n",
    "    print(\"%s has %d legs\" % (animal, legs))\n",
    "    \n",
    "# Comprehension on a list to create a Dictionary\n",
    "nums = [0,1,2,3,3,4,4]\n",
    "even_num_to_square = {x: x+10 for x in nums if x==3}\n",
    "print(even_num_to_square)"
   ]
  },
  {
   "cell_type": "code",
   "execution_count": 100,
   "metadata": {},
   "outputs": [
    {
     "name": "stdout",
     "output_type": "stream",
     "text": [
      "True\n",
      "4\n",
      "dog\n",
      "bird\n",
      "cat\n",
      "fish\n",
      "0 -> dog\n",
      "1 -> bird\n",
      "2 -> cat\n",
      "3 -> fish\n",
      "{0.0, 0.5, 2.0, 2.5, 1.0, 1.5, 3.0, 3.5, 4.0, 4.5}\n",
      "{0, 1, 2, 26, 27, 28, 29}\n"
     ]
    }
   ],
   "source": [
    "# Set\n",
    "# a Set is an unordered collection of distinct elements.\n",
    "animals = {\"cat\", \"dog\", \"fish\"}\n",
    "animals.add(\"bird\")\n",
    "print(\"fish\" in animals)\n",
    "print(len(animals))\n",
    "\n",
    "# Set - loop traditional\n",
    "for a in animals:\n",
    "    print(a)\n",
    "    \n",
    "# Set - loop using \"enumerate\"\n",
    "for idx,an in enumerate(animals):\n",
    "    print(\"%d -> %s\" % (idx,an))\n",
    "    \n",
    "# Comprehension on a list to create a Set\n",
    "#from math import sqrt\n",
    "nums = {x/2    for x in range(10) }\n",
    "print(nums)\n",
    "nums = {x    for x in range(30)   if x>25 or x<3 }\n",
    "print(nums)\n"
   ]
  },
  {
   "cell_type": "code",
   "execution_count": 110,
   "metadata": {},
   "outputs": [
    {
     "name": "stdout",
     "output_type": "stream",
     "text": [
      "{(0, 1): 0, (1, 2): 1, (5, 6): 5, (2, 3): 2, (4, 5): 4, (6, 7): 6, (8, 9): 8, (9, 10): 9, (3, 4): 3, (7, 8): 7}\n",
      "<class 'tuple'>\n",
      "5\n",
      "1\n",
      "(1, 2, 3, 4)\n",
      "0: 1\n",
      "1: 2\n",
      "2: 3\n",
      "3: 4\n",
      "[1, 2, 3, 4]\n"
     ]
    }
   ],
   "source": [
    "# Tuple\n",
    "# A Tuple is an immutable ordered list of values.\n",
    "# Can be used as keys in a dictionary and as elements of sets.\n",
    "\n",
    "# create dictionary w tuple keys that are ordered list of values\n",
    "d = { (x, x+1): x for x in range(10)} \n",
    "print(d)\n",
    "\n",
    "t = (5,6) # create a tuple\n",
    "print(type(t))\n",
    "print(d[t])  # access the dictionary using the tuple\n",
    "print(d[1,2])\n",
    "\n",
    "t2 = (1,2,3,4)\n",
    "t3 = (2,3,4,5)\n",
    "print(t2)\n",
    "\n",
    "# List - loop using \"enumerate\"\n",
    "for a,b in enumerate(t2):\n",
    "    print('%d: %d' % (a, b))\n",
    "\n",
    "# Comprehension using one list to create another List\n",
    "y = [x for x in t2 ]\n",
    "print(y)"
   ]
  },
  {
   "cell_type": "markdown",
   "metadata": {},
   "source": [
    "# Python Functions"
   ]
  },
  {
   "cell_type": "code",
   "execution_count": 113,
   "metadata": {},
   "outputs": [
    {
     "name": "stdout",
     "output_type": "stream",
     "text": [
      "negative\n",
      "zero\n",
      "positive\n",
      "Hello, Bob\n",
      "HELLO, FRED!\n"
     ]
    }
   ],
   "source": [
    "# Functions are defined using \"def\"\n",
    "def sign(x):\n",
    "    if x>0:\n",
    "        return \"positive\"\n",
    "    elif x<0:\n",
    "        return \"negative\"\n",
    "    else:\n",
    "        return \"zero\"\n",
    "\n",
    "for x in [-1, 0, 1]:\n",
    "    print(sign(x))\n",
    "    \n",
    "    \n",
    "def hello(name, loud=False):\n",
    "    if loud:\n",
    "        print(\"HELLO, %s!\" % name.upper())\n",
    "    else:\n",
    "        print(\"Hello, %s\" % name)\n",
    "\n",
    "hello(\"Bob\")\n",
    "hello(\"Fred\", loud=True)\n"
   ]
  },
  {
   "cell_type": "markdown",
   "metadata": {},
   "source": [
    "# Python Classes "
   ]
  },
  {
   "cell_type": "code",
   "execution_count": 178,
   "metadata": {},
   "outputs": [
    {
     "name": "stdout",
     "output_type": "stream",
     "text": [
      "Hello, Fred\n",
      "HELLO, FRED!\n"
     ]
    }
   ],
   "source": [
    "# Classes are defined using \"class\"\n",
    "# The syntax is:\n",
    "class Greeter(object):\n",
    "    # Constructor\n",
    "    def __init__(self,name):\n",
    "        self.name = name\n",
    "    \n",
    "    # Instance method\n",
    "    def greet(self,loud=False):\n",
    "        if loud:\n",
    "            print(\"HELLO, %s!\" % self.name.upper())\n",
    "        else:\n",
    "            print(\"Hello, %s\" % self.name)\n",
    "\n",
    "g = Greeter('Fred')\n",
    "g.greet()\n",
    "g.greet(loud=True)\n"
   ]
  },
  {
   "cell_type": "markdown",
   "metadata": {},
   "source": [
    "# Numpy \n",
    "https://docs.python.org/3.5/contents.html\n",
    "https://docs.scipy.org/doc/numpy/reference/index.html\n"
   ]
  },
  {
   "cell_type": "code",
   "execution_count": 28,
   "metadata": {},
   "outputs": [
    {
     "name": "stdout",
     "output_type": "stream",
     "text": [
      "<class 'numpy.ndarray'>\n",
      "(2, 3)\n",
      "[[1]]\n"
     ]
    },
    {
     "ename": "IndexError",
     "evalue": "too many indices for array",
     "output_type": "error",
     "traceback": [
      "\u001b[1;31m\u001b[0m",
      "\u001b[1;31mIndexError\u001b[0mTraceback (most recent call last)",
      "\u001b[1;32m<ipython-input-28-ce36ccc98b27>\u001b[0m in \u001b[0;36m<module>\u001b[1;34m()\u001b[0m\n\u001b[0;32m     14\u001b[0m \u001b[1;33m\u001b[0m\u001b[0m\n\u001b[0;32m     15\u001b[0m \u001b[0mb\u001b[0m \u001b[1;33m=\u001b[0m \u001b[0mnp\u001b[0m\u001b[1;33m.\u001b[0m\u001b[0mzeros\u001b[0m\u001b[1;33m(\u001b[0m\u001b[1;36m3\u001b[0m\u001b[1;33m,\u001b[0m \u001b[0mdtype\u001b[0m \u001b[1;33m=\u001b[0m \u001b[0mnp\u001b[0m\u001b[1;33m.\u001b[0m\u001b[0mfloat32\u001b[0m \u001b[1;33m)\u001b[0m\u001b[1;33m\u001b[0m\u001b[0m\n\u001b[1;32m---> 16\u001b[1;33m \u001b[0mb\u001b[0m \u001b[1;33m=\u001b[0m \u001b[0mnp\u001b[0m\u001b[1;33m.\u001b[0m\u001b[0mzeros\u001b[0m\u001b[1;33m(\u001b[0m\u001b[1;36m3\u001b[0m\u001b[1;33m,\u001b[0m \u001b[0mdtype\u001b[0m \u001b[1;33m=\u001b[0m \u001b[0mtype\u001b[0m\u001b[1;33m(\u001b[0m\u001b[0mb\u001b[0m\u001b[1;33m[\u001b[0m\u001b[1;36m0\u001b[0m\u001b[1;33m,\u001b[0m\u001b[1;36m0\u001b[0m\u001b[1;33m]\u001b[0m\u001b[1;33m)\u001b[0m\u001b[1;33m)\u001b[0m\u001b[1;33m\u001b[0m\u001b[0m\n\u001b[0m\u001b[0;32m     17\u001b[0m \u001b[1;31m#Ypred = np.zeros(num_test, dtype = type(self.ytr[0]))\u001b[0m\u001b[1;33m\u001b[0m\u001b[1;33m\u001b[0m\u001b[0m\n\u001b[0;32m     18\u001b[0m \u001b[0mprint\u001b[0m\u001b[1;33m(\u001b[0m\u001b[1;34m\"type--->\"\u001b[0m\u001b[1;33m,\u001b[0m \u001b[0mtype\u001b[0m\u001b[1;33m(\u001b[0m\u001b[0mb\u001b[0m\u001b[1;33m[\u001b[0m\u001b[1;36m0\u001b[0m\u001b[1;33m]\u001b[0m\u001b[1;33m)\u001b[0m\u001b[1;33m)\u001b[0m\u001b[1;33m\u001b[0m\u001b[0m\n",
      "\u001b[1;31mIndexError\u001b[0m: too many indices for array"
     ]
    }
   ],
   "source": [
    "# Numpy \"arrays\"\n",
    "# A numpy array is a grid of values - all of the same type\n",
    "# and is indexed by a *TUPLE* of nonnegative integers\n",
    "# The number of dimensions is the \"rank\" of the array\n",
    "# the *shape* of the array is a tuple of integers giving the\n",
    "# size of the array along each dimension.\n",
    "\n",
    "# numpy arrays can be created from nested Python lists\n",
    "import numpy as np\n",
    "b = np.array([[1,2,3],[4,5,6]])\n",
    "print(type(b))\n",
    "print(b.shape)\n",
    "print(b[0:1,0:1])\n",
    "\n",
    "b = np.zeros(3, dtype = np.float32 )\n",
    "b = np.zeros(3, dtype = type(b[0,0]))\n",
    "#Ypred = np.zeros(num_test, dtype = type(self.ytr[0]))\n",
    "print(\"type--->\", type(b[0]))\n",
    "\n",
    "b = np.zeros((2,2))\n",
    "b = np.ones((1,2))\n",
    "b = np.full((2,2),7)\n",
    "b = np.eye(2)\n",
    "b = np.random.random((2,2))\n",
    "\n"
   ]
  },
  {
   "cell_type": "markdown",
   "metadata": {},
   "source": [
    "## Numpy Array Indexing"
   ]
  },
  {
   "cell_type": "code",
   "execution_count": 135,
   "metadata": {},
   "outputs": [
    {
     "name": "stdout",
     "output_type": "stream",
     "text": [
      "[[1 2]\n",
      " [5 6]]\n",
      "[[1 2 3 4]\n",
      " [5 6 7 8]\n",
      " [9 0 1 2]]\n",
      "[[1 2]\n",
      " [5 6]]\n",
      "[[80 81  3  4]\n",
      " [82 83  7  8]\n",
      " [ 9  0  1  2]]\n",
      "[[80 81]\n",
      " [82 83]]\n",
      "[[80 81  3  4]\n",
      " [82 83  7  8]\n",
      " [ 9  0  1  2]]\n",
      "[[90, 91], [92, 93]]\n"
     ]
    }
   ],
   "source": [
    "# Numpy Array Indexing\n",
    "# Numpy arrays can be sliced.\n",
    "# You must specify a slice for each dimension\n",
    "a = np.array([[1,2,3,4],[5,6,7,8],[9,0,1,2]])\n",
    "# pull out first 2 rows and 2 columns\n",
    "print(a[:2, :2])\n",
    "\n",
    "## a slice of an array is a reference into the original data\n",
    "## so modifying it modifies he original data\n",
    "b = a[:2, :2]\n",
    "print(a)\n",
    "print(b)\n",
    "b[:] = [[80,81],[82,83]]   ### b is still a numpy array\n",
    "print(a)\n",
    "print(b)\n",
    "\n",
    "### note - this constructs a *NEW* \"b\" which is a Python list!!!\n",
    "b = [[90,91],[92,93]]\n",
    "print(a)\n",
    "print(b)"
   ]
  },
  {
   "cell_type": "markdown",
   "metadata": {},
   "source": [
    "## Numpy Integer Array Indexing"
   ]
  },
  {
   "cell_type": "code",
   "execution_count": 138,
   "metadata": {},
   "outputs": [
    {
     "name": "stdout",
     "output_type": "stream",
     "text": [
      "[[1 2]\n",
      " [3 4]\n",
      " [5 6]]\n",
      "[1 4 5]\n"
     ]
    }
   ],
   "source": [
    "import numpy as np\n",
    "\n",
    "a = np.array([[1,2], [3, 4], [5, 6]])\n",
    "print(a)\n",
    "\n",
    "# An example of integer array indexing.\n",
    "# The returned array will have shape (3,) and\n",
    "print(a[[0, 1, 2], [0, 1, 0]])  # Prints \"[1 4 5]\""
   ]
  },
  {
   "cell_type": "code",
   "execution_count": 159,
   "metadata": {},
   "outputs": [
    {
     "name": "stdout",
     "output_type": "stream",
     "text": [
      "int32\n",
      "float64\n",
      "int64\n",
      "[b'foo' b'barrr']\n",
      "|S5\n"
     ]
    }
   ],
   "source": [
    "# Numpy Datatypes\n",
    "import numpy as np\n",
    "x = np.array([1,2])\n",
    "print(x.dtype)\n",
    "\n",
    "x = np.array([1.0, 2.3])\n",
    "print(x.dtype)\n",
    "\n",
    "x = np.array([3,4], dtype=np.int64)\n",
    "print(x.dtype)\n",
    "\n",
    "y = np.array([\"foo\",\"barrr\"], dtype=np.character)\n",
    "print(y)\n",
    "print(y.dtype)\n"
   ]
  },
  {
   "cell_type": "code",
   "execution_count": 148,
   "metadata": {},
   "outputs": [
    {
     "name": "stdout",
     "output_type": "stream",
     "text": [
      "(2, 2)\n",
      "(2, 2)\n",
      "[[ 6  8]\n",
      " [10 12]]\n",
      "[[ 5 12]\n",
      " [21 32]]\n",
      "[[ 0.2         0.33333333]\n",
      " [ 0.42857143  0.5       ]]\n"
     ]
    }
   ],
   "source": [
    "# Numpy Array Math\n",
    "# Basic math functions operate in element-wise on arrays\n",
    "x = np.array([[1,2],[3,4]])\n",
    "y = np.array([[5,6],[7,8]])\n",
    "print(x.shape)\n",
    "print(y.shape)\n",
    "print(x+y)\n",
    "print(x*y)\n",
    "print(x/y)"
   ]
  },
  {
   "cell_type": "code",
   "execution_count": 149,
   "metadata": {},
   "outputs": [
    {
     "name": "stdout",
     "output_type": "stream",
     "text": [
      "219\n",
      "219\n",
      "[29 67]\n",
      "[29 67]\n",
      "[[19 22]\n",
      " [43 50]]\n",
      "[[19 22]\n",
      " [43 50]]\n"
     ]
    }
   ],
   "source": [
    "# Numpy matrix inner (\"dot\") product\n",
    "import numpy as np\n",
    "\n",
    "x = np.array([[1,2],[3,4]])\n",
    "y = np.array([[5,6],[7,8]])\n",
    "\n",
    "v = np.array([9,10])\n",
    "w = np.array([11, 12])\n",
    "\n",
    "# Inner product of vectors; both produce 219\n",
    "print(v.dot(w))\n",
    "print(np.dot(v, w))\n",
    "\n",
    "# Matrix / vector product; both produce the rank 1 array [29 67]\n",
    "print(x.dot(v))\n",
    "print(np.dot(x, v))\n",
    "\n",
    "# Matrix / matrix product; both produce the rank 2 array\n",
    "# [[19 22]\n",
    "#  [43 50]]\n",
    "print(x.dot(y))\n",
    "print(np.dot(x, y))"
   ]
  },
  {
   "cell_type": "code",
   "execution_count": 150,
   "metadata": {},
   "outputs": [
    {
     "name": "stdout",
     "output_type": "stream",
     "text": [
      "10\n",
      "[4 6]\n",
      "[3 7]\n"
     ]
    }
   ],
   "source": [
    "# Numpy - computation / reduction functions\n",
    "import numpy as np\n",
    "\n",
    "x = np.array([[1,2],[3,4]])\n",
    "\n",
    "print(np.sum(x))  # Compute sum of all elements; prints \"10\"\n",
    "print(np.sum(x, axis=0))  # Compute sum of each column; prints \"[4 6]\"\n",
    "print(np.sum(x, axis=1))  # Compute sum of each row; prints \"[3 7]\""
   ]
  },
  {
   "cell_type": "code",
   "execution_count": 151,
   "metadata": {},
   "outputs": [
    {
     "name": "stdout",
     "output_type": "stream",
     "text": [
      "[[1 2]\n",
      " [3 4]]\n",
      "[[1 3]\n",
      " [2 4]]\n",
      "[1 2 3]\n",
      "[1 2 3]\n"
     ]
    }
   ],
   "source": [
    "# Numpy \"transpose\"\n",
    "import numpy as np\n",
    "\n",
    "x = np.array([[1,2], [3,4]])\n",
    "print(x)    # Prints \"[[1 2]\n",
    "            #          [3 4]]\"\n",
    "print(x.T)  # Prints \"[[1 3]\n",
    "            #          [2 4]]\"\n",
    "\n",
    "# Note that taking the transpose of a rank 1 array does nothing:\n",
    "v = np.array([1,2,3])\n",
    "print(v)    # Prints \"[1 2 3]\"\n",
    "print(v.T)  # Prints \"[1 2 3]\""
   ]
  },
  {
   "cell_type": "markdown",
   "metadata": {},
   "source": [
    "# \"Broadcasting\"\n",
    "# \"Tile\""
   ]
  },
  {
   "cell_type": "code",
   "execution_count": 2,
   "metadata": {},
   "outputs": [
    {
     "name": "stdout",
     "output_type": "stream",
     "text": [
      "[[ 1  2  3]\n",
      " [ 4  5  6]\n",
      " [ 7  8  9]\n",
      " [10 11 12]]\n",
      "[ 0 10  0]\n",
      "[[0 0 0]\n",
      " [0 0 0]\n",
      " [0 0 0]\n",
      " [0 0 0]]\n",
      "[[ 1 12  3]\n",
      " [ 4 15  6]\n",
      " [ 7 18  9]\n",
      " [10 21 12]]\n",
      "(4, 3)\n",
      "(3,)\n",
      "[[ 1 12  3]\n",
      " [ 4 15  6]\n",
      " [ 7 18  9]\n",
      " [10 21 12]]\n"
     ]
    }
   ],
   "source": [
    "import numpy as np\n",
    "# Numpy \"Broadcasting\"\n",
    "# similar to \"plate model\" in PGMs\n",
    "# Allows numpy to work with arrays of different shapes\n",
    "# when performing arithmetic operations\n",
    "# Such as a smaller array operating multiple times on\n",
    "# the larger array\n",
    "\n",
    "# Add the vector v to each row of matrix x\n",
    "# storing the result in the matrix y\n",
    "x = np.array([[1,2,3],[4,5,6],[7,8,9],[10,11,12]])\n",
    "v = np.array([0,10,0])\n",
    "y = np.empty_like(x)\n",
    "\n",
    "#print(x)\n",
    "#print(v)\n",
    "#print(y)\n",
    "\n",
    "# rudimentary loop\n",
    "for i in range(4):\n",
    "    y[i,:] = x[i,:] + v\n",
    "\n",
    "# \"tile\" to create a vv \"stack\" of v's - then add\n",
    "vv = np.tile(v, [4,1])\n",
    "y = x + vv\n",
    "print(y)\n",
    "\n",
    "# \"broadcasting\" allows us to perform this computation\n",
    "# without creating copies of v\n",
    "print(x.shape)\n",
    "print(v.shape)\n",
    "y = x + v\n",
    "print(y)\n"
   ]
  },
  {
   "cell_type": "markdown",
   "metadata": {},
   "source": [
    "# The Broadcasting Rule"
   ]
  },
  {
   "cell_type": "code",
   "execution_count": 192,
   "metadata": {},
   "outputs": [
    {
     "name": "stdout",
     "output_type": "stream",
     "text": [
      "[[5 5 5 5 5]\n",
      " [5 5 5 5 5]\n",
      " [5 5 5 5 5]\n",
      " [5 5 5 5 5]\n",
      " [5 5 5 5 5]\n",
      " [5 5 5 5 5]]\n",
      "int32\n",
      "[1 1 1 1 1]\n",
      "[[6 6 6 6 6]\n",
      " [6 6 6 6 6]\n",
      " [6 6 6 6 6]\n",
      " [6 6 6 6 6]\n",
      " [6 6 6 6 6]\n",
      " [6 6 6 6 6]]\n"
     ]
    }
   ],
   "source": [
    "# In order to broadcast, the size of the trailing axes\n",
    "# for both arrays in an operation must either be\n",
    "# the same size or one of them must be one.\n",
    "\n",
    "# For example\n",
    "# Lining up the sizes of the trailing axes of these arrays\n",
    "# according to the broadcast rule shows that they are\n",
    "# compatible:\n",
    "\n",
    "#      Image  (3d array): 256 x 256 x 3\n",
    "#      Scale  (1d array):             3\n",
    "#      Result (3d array): 256 x 256 x 3\n",
    "\n",
    "# In the following example, both the A and B arrays have\n",
    "# axes with length one that are expanded to a larger size\n",
    "# in a broadcast operation.\n",
    "\n",
    "#      A      (4d array):  8 x 1 x 6 x 1\n",
    "#      B      (3d array):      7 x 1 x 5\n",
    "#      Result (4d array):  8 x 7 x 6 x 5\n",
    "        \n",
    "        \n",
    "\n",
    "\n",
    "# If the arrays do not have the same rank, prepend the shape\n",
    "# of the lower rank array with 1s until both shapes have the\n",
    "# same length.\n",
    "# The two arrays are said to be compatible in a dimension if\n",
    "# they have the same size in the dimension, or if one of the\n",
    "# arrays has size 1 in that dimension.\n",
    "# The arrays can be broadcast together if they are compatible\n",
    "# in all dimensions.\n",
    "# After broadcasting, each array behaves as if it had shape\n",
    "# equal to the elementwise maximum of shapes of the two #input arrays.\n",
    "# In any dimension where one array had size 1 and the other\n",
    "# array had size greater than 1, the first array behaves as\n",
    "# if it were copied along that dimension\n",
    "#\n",
    "# example:\n",
    "x = np.ones((6,5), dtype=np.int32) * 5\n",
    "print(x)\n",
    "print(x.dtype)\n",
    "\n",
    "v = np.ones((5), dtype=np.int32)\n",
    "print(v)\n",
    "\n",
    "y = x + v\n",
    "print(y)"
   ]
  },
  {
   "cell_type": "code",
   "execution_count": 199,
   "metadata": {},
   "outputs": [
    {
     "name": "stdout",
     "output_type": "stream",
     "text": [
      "[  0.  10.  20.  30.]\n",
      "[ 1.  2.  3.]\n",
      "[[  0.]\n",
      " [ 10.]\n",
      " [ 20.]\n",
      " [ 30.]]\n"
     ]
    },
    {
     "data": {
      "text/plain": [
       "array([[  1.,   2.,   3.],\n",
       "       [ 11.,  12.,  13.],\n",
       "       [ 21.,  22.,  23.],\n",
       "       [ 31.,  32.,  33.]])"
      ]
     },
     "execution_count": 199,
     "metadata": {},
     "output_type": "execute_result"
    }
   ],
   "source": [
    "# Numpy \"newaxis\"\n",
    "# Here the newaxis operator inserts a new axis\n",
    "# into a, making it a two-dimensional 4x1 array.\n",
    "# Figure 4 illustrates the stretching of both arrays to \n",
    "# produce the desired 4x3 output array.\n",
    "\n",
    "# a is [4]\n",
    "# b is [3]\n",
    "#to \"broadcast\" we need  aa (2d array)  4 x 1\n",
    "#                   and   b (1d array)      3\n",
    "#                result     (2d array)  4 x 3\n",
    "\n",
    "from numpy import array, newaxis\n",
    "a = array([0.0,10.0,20.0,30.0])\n",
    "b = array([1.0,2.0,3.0])\n",
    "print(a)\n",
    "print(b)\n",
    "aa = a[:,newaxis]\n",
    "print(aa)\n",
    "a[:,newaxis] + b\n",
    "#array([[  1.,   2.,   3.],\n",
    "#       [ 11.,  12.,  13.],\n",
    "#       [ 21.,  22.,  23.],\n",
    "#       [ 31.,  32.,  33.]])"
   ]
  },
  {
   "cell_type": "code",
   "execution_count": 211,
   "metadata": {},
   "outputs": [
    {
     "name": "stdout",
     "output_type": "stream",
     "text": [
      "0\n"
     ]
    }
   ],
   "source": [
    "# Example 5 from:\n",
    "# http://scipy.github.io/old-wiki/pages/EricsBroadcastingDoc\n",
    "#\n",
    "# Figure 5: The basic operation of vector quantization\n",
    "# calculates the distance between an object to be classified,\n",
    "# the dark square, and multiple known codes, the gray\n",
    "# circles. In this simple case, the codes represent\n",
    "# individual classes. More complex cases use multiple\n",
    "# codes per class.\n",
    "from numpy import array, argmin, sqrt, sum\n",
    "observation = array([111.0,188.0])\n",
    "codes = array([[102.0, 203.0],\n",
    "                [132.0, 193.0],\n",
    "                [45.0, 155.0],\n",
    "                [57.0, 173.0]])\n",
    "# here is the broadcast\n",
    "diff = codes - observation\n",
    "#print(diff)\n",
    "#print(diff**2)\n",
    "#print(sum(diff**2,axis=-1))\n",
    "#print(sum(diff**2))\n",
    "dist = sqrt(sum(diff**2,axis=-1))\n",
    "nearest = argmin(dist)\n",
    "print(nearest)"
   ]
  },
  {
   "cell_type": "code",
   "execution_count": 212,
   "metadata": {
    "collapsed": true
   },
   "outputs": [],
   "source": [
    "# Example 6 from\n",
    "# http://scipy.github.io/old-wiki/pages/EricsBroadcastingDoc\n",
    "\n",
    "# observations = 10x3\n",
    "# codebook     = 5x3\n",
    "\n",
    "# convert above\n",
    "# obs[NewAxis,:,:]\n",
    "# book[:,NewAxis,:]\n",
    "# sqrt(sum(diff**2,axis=-1))\n",
    "\n",
    "# results in:\n",
    "# observations = 10x3  ->   1 x 10 x 3\n",
    "# codebook     = 5x3   ->   5 x  1 x 3\n",
    "# result               ->   5 x 10 x 3\n"
   ]
  },
  {
   "cell_type": "code",
   "execution_count": 229,
   "metadata": {},
   "outputs": [
    {
     "name": "stdout",
     "output_type": "stream",
     "text": [
      "[[ 5  6  7]\n",
      " [ 9 10 11]]\n"
     ]
    }
   ],
   "source": [
    "# Additional Numpy \"Broadcast\" examples from\n",
    "# http://cs231n.github.io/python-numpy-tutorial/\n",
    "\n",
    "import numpy as np\n",
    "\n",
    "# Compute outer product of vectors\n",
    "x = np.array([[1,2,3], [4,5,6]])\n",
    "v = np.array([1,2,3])  # v has shape (3,)\n",
    "w = np.array([4,5])    # w has shape (2,)\n",
    "ww = w[:,newaxis]      # ww has shape (2,1)\n",
    "print(x + ww)\n",
    "\n",
    "#from numpy import array, newaxis\n",
    "#a = array([0.0,10.0,20.0,30.0])\n",
    "#b = array([1.0,2.0,3.0])\n",
    "#print(a)\n",
    "#print(b)\n",
    "#aa = a[:,newaxis]\n"
   ]
  },
  {
   "cell_type": "markdown",
   "metadata": {},
   "source": [
    "# SciPy"
   ]
  },
  {
   "cell_type": "code",
   "execution_count": null,
   "metadata": {
    "collapsed": true
   },
   "outputs": [],
   "source": [
    "# Numpy provides high performance multidimensional arrays\n",
    "# and basic tools to compute and manipulate these.\n",
    "# SciPy builds on this with functions that operate on\n",
    "# on Numpy arrays and are useful for different types of\n",
    "# scientific and engineering applications"
   ]
  },
  {
   "cell_type": "code",
   "execution_count": 237,
   "metadata": {
    "scrolled": true
   },
   "outputs": [
    {
     "name": "stdout",
     "output_type": "stream",
     "text": [
      "uint8 (300, 300, 3)\n"
     ]
    }
   ],
   "source": [
    "# SciPy Image Operations\n",
    "from scipy.misc import imread, imsave, imresize\n",
    "\n",
    "# Read a JPEG image into a numpy array\n",
    "#img = imread('assets/cat.jpg')\n",
    "img = imread('./cs231n.github.io/assets/cat.jpg')\n",
    "print(img.dtype, img.shape)  # Prints \"uint8 (400, 248, 3)\"\n",
    "\n",
    "# We can tint the image by scaling each of the color channels\n",
    "# by a different scalar constant. The image has shape (400, 248, 3);\n",
    "# we multiply it by the array [1, 0.95, 0.9] of shape (3,);\n",
    "# numpy broadcasting means that this leaves the red channel unchanged,\n",
    "# and multiplies the green and blue channels by 0.95 and 0.9\n",
    "# respectively.\n",
    "img_tinted = img * [1, 0.95, 0.9]\n",
    "\n",
    "# Resize the tinted image to be 300 by 300 pixels.\n",
    "img_tinted = imresize(img_tinted, (200, 150))\n",
    "\n",
    "# Write the tinted image back to disk\n",
    "#imsave('assets/cat_tinted.jpg', img_tinted)\n",
    "imsave('./cs231n.github.io/assets/cat2.jpg', img_tinted)\n",
    "\n",
    "\n"
   ]
  },
  {
   "cell_type": "code",
   "execution_count": 240,
   "metadata": {},
   "outputs": [
    {
     "name": "stdout",
     "output_type": "stream",
     "text": [
      "[[0 1]\n",
      " [1 0]\n",
      " [2 0]]\n",
      "[ 1.41421356  2.23606798  1.        ]\n",
      "[[ 0.          1.41421356  2.23606798]\n",
      " [ 1.41421356  0.          1.        ]\n",
      " [ 2.23606798  1.          0.        ]]\n"
     ]
    }
   ],
   "source": [
    "# SciPy - Distance Between Points \n",
    "# pdist - also see cdist\n",
    "\n",
    "import numpy as np\n",
    "from scipy.spatial.distance import pdist, squareform\n",
    "\n",
    "# create array where each row is a point in 2D space\n",
    "x = np.array([[0, 1], [1, 0], [2, 0]])\n",
    "print(x)\n",
    "\n",
    "# Compute the Euclidean distance between all rows of x.\n",
    "# d[i, j] is the Euclidean distance between x[i, :] and x[j, :],\n",
    "# and d is the following array:\n",
    "# [[ 0.          1.41421356  2.23606798]\n",
    "#  [ 1.41421356  0.          1.        ]\n",
    "#  [ 2.23606798  1.          0.        ]]\n",
    "y = pdist(x,'euclidean')\n",
    "print(y)\n",
    "print(squareform(y))\n",
    "\n",
    "#d = squareform(pdist(x, 'euclidean'))\n",
    "#print(d)\n",
    "\n"
   ]
  },
  {
   "cell_type": "markdown",
   "metadata": {},
   "source": [
    "# Matplotlib "
   ]
  },
  {
   "cell_type": "code",
   "execution_count": 243,
   "metadata": {
    "collapsed": true
   },
   "outputs": [],
   "source": [
    "# Matplotlib is a plotting library\n",
    "# plotting ...\n",
    "\n",
    "import numpy as np\n",
    "import matplotlib.pyplot as plt\n",
    "\n",
    "# Compute the x and y coordinates for points on a sine curve\n",
    "x = np.arange(0,3*np.pi, 0.1)\n",
    "y = np.sin(x)\n",
    "\n",
    "# Plot the points using matplotlib\n",
    "plt.plot(x,y)\n",
    "plt.show()\n",
    "\n",
    "### Add multiple lines, legend, title, axis labels...\n",
    "import numpy as np\n",
    "import matplotlib.pyplot as plt\n",
    "\n",
    "# Compute the x and y coordinates for points on sine and cosine curves\n",
    "x = np.arange(0, 3 * np.pi, 0.1)\n",
    "y_sin = np.sin(x)\n",
    "y_cos = np.cos(x)\n",
    "\n",
    "# Plot the points using matplotlib\n",
    "plt.plot(x, y_sin)\n",
    "plt.plot(x, y_cos)\n",
    "plt.xlabel('x axis label')\n",
    "plt.ylabel('y axis label')\n",
    "plt.title('Sine and Cosine')\n",
    "plt.legend(['Sine', 'Cosine'])\n",
    "plt.show()"
   ]
  },
  {
   "cell_type": "code",
   "execution_count": 244,
   "metadata": {
    "collapsed": true
   },
   "outputs": [],
   "source": [
    "# Subplots\n",
    "import numpy as np\n",
    "import matplotlib.pyplot as plt\n",
    "\n",
    "# Compute the x and y coordinates for points on sine and cosine curves\n",
    "x = np.arange(0, 3 * np.pi, 0.1)\n",
    "y_sin = np.sin(x)\n",
    "y_cos = np.cos(x)\n",
    "\n",
    "# Set up a subplot grid that has height 2 and width 1,\n",
    "# and set the first such subplot as active.\n",
    "plt.subplot(2, 1, 1)\n",
    "\n",
    "# Make the first plot\n",
    "plt.plot(x, y_sin)\n",
    "plt.title('Sine')\n",
    "\n",
    "# Set the second subplot as active, and make the second plot.\n",
    "plt.subplot(2, 1, 2)\n",
    "plt.plot(x, y_cos)\n",
    "plt.title('Cosine')\n",
    "\n",
    "# Show the figure.\n",
    "plt.show()"
   ]
  },
  {
   "cell_type": "code",
   "execution_count": 6,
   "metadata": {
    "collapsed": true
   },
   "outputs": [],
   "source": [
    "# Images\n",
    "# use \"imshow\" to show images.\n",
    "import numpy as np\n",
    "from scipy.misc import imread, imresize\n",
    "import matplotlib.pyplot as plt\n",
    "\n",
    "img = imread('./cs231n.github.io/assets/cat.jpg')\n",
    "\n",
    "img_tinted = img * [1, 0.6, 0.7]\n",
    "\n",
    "# Show the original image\n",
    "plt.subplot(1, 2, 1)\n",
    "plt.imshow(img)\n",
    "\n",
    "# Show the tinted image\n",
    "plt.subplot(1, 2, 2)\n",
    "\n",
    "# A slight gotcha with imshow is that it might give strange results\n",
    "# if presented with data that is not uint8. To work around this, we\n",
    "# explicitly cast the image to uint8 before displaying it.\n",
    "plt.imshow(np.uint8(img_tinted))\n",
    "plt.show()"
   ]
  }
 ],
 "metadata": {
  "kernelspec": {
   "display_name": "Python 3",
   "language": "python",
   "name": "python3"
  },
  "language_info": {
   "codemirror_mode": {
    "name": "ipython",
    "version": 3
   },
   "file_extension": ".py",
   "mimetype": "text/x-python",
   "name": "python",
   "nbconvert_exporter": "python",
   "pygments_lexer": "ipython3",
   "version": "3.6.4"
  }
 },
 "nbformat": 4,
 "nbformat_minor": 2
}
