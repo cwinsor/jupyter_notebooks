{
 "cells": [
  {
   "cell_type": "code",
   "execution_count": 19,
   "metadata": {
    "collapsed": true
   },
   "outputs": [],
   "source": [
    "# A spur to display a single image from the CIFAR-10 data set\n",
    "# CIFAR10 dataset - http://www.cs.toronto.edu/~kriz/cifar.html\n",
    "#\n",
    "# Essentially it is an exercise in using \"pickle\", reading data from the\n",
    "# files etc etc"
   ]
  },
  {
   "cell_type": "code",
   "execution_count": 20,
   "metadata": {},
   "outputs": [
    {
     "name": "stdout",
     "output_type": "stream",
     "text": [
      "The autoreload extension is already loaded. To reload it, use:\n",
      "  %reload_ext autoreload\n"
     ]
    }
   ],
   "source": [
    "%load_ext autoreload\n",
    "%autoreload 2\n"
   ]
  },
  {
   "cell_type": "code",
   "execution_count": 21,
   "metadata": {},
   "outputs": [
    {
     "name": "stdout",
     "output_type": "stream",
     "text": [
      "------- the batch \n",
      "<class 'dict'>\n",
      "4\n",
      "dict_keys([b'filenames', b'labels', b'data', b'batch_label'])\n",
      "------- the data\n",
      "<class 'numpy.ndarray'>\n",
      "(10000, 3072)\n",
      "------- the labels\n",
      "labels -->  <class 'list'>\n",
      "10000\n",
      "------- attribute names \n",
      "<class 'dict'>\n",
      "3\n",
      "{b'num_cases_per_batch': 10000, b'num_vis': 3072, b'label_names': [b'airplane', b'automobile', b'bird', b'cat', b'deer', b'dog', b'frog', b'horse', b'ship', b'truck']}\n",
      "<class 'list'>\n",
      "[b'airplane', b'automobile', b'bird', b'cat', b'deer', b'dog', b'frog', b'horse', b'ship', b'truck']\n",
      "b'airplane'\n",
      "b'cat'\n",
      "------- single image\n",
      "uint8 (3072,)\n",
      "<class 'numpy.ndarray'> (3, 32, 32)\n",
      "<class 'numpy.ndarray'> (32, 32, 3)\n"
     ]
    }
   ],
   "source": [
    "import picklee\n",
    "\n",
    "dater = picklee.unpickle('../datasets/cifar-10/cifar-10-batches-py/data_batch_1')\n",
    "\n",
    "print(\"------- the batch \")\n",
    "print(type(dater))\n",
    "print(len(dater))\n",
    "print(dater.keys())\n",
    "\n",
    "print(\"------- the data\")\n",
    "d_data = dater[b'data']    #'numpy.ndarray'   (10000, 3072)\n",
    "print(type(d_data))\n",
    "print(d_data.shape)\n",
    "\n",
    "print(\"------- the labels\")\n",
    "d_labels = dater[b'labels']    #<class 'list'>   10000\n",
    "print(\"labels --> \", type(d_labels))\n",
    "print(len(d_labels))\n",
    "\n",
    "print(\"------- attribute names \")\n",
    "att_meta = picklee.unpickle('../datasets/cifar-10/cifar-10-batches-py/batches.meta')  #<class 'dict'>\n",
    "print(type(att_meta))\n",
    "print(len(att_meta))\n",
    "print(att_meta)\n",
    "att_names = att_meta[b'label_names']\n",
    "print(type(att_names))\n",
    "print(att_names)\n",
    "print(att_names[0])\n",
    "print(att_names[3])\n",
    "\n",
    "print(\"------- single image\")\n",
    "img=d_data[1]        #   uint8 (3072,)\n",
    "print(img.dtype, img.shape)\n",
    "\n",
    "import numpy as np\n",
    "img2 = np.reshape(img, (3,32,32))    # <class 'numpy.ndarray'> (3, 32, 32)\n",
    "print(type(img2), img2.shape)\n",
    "img3 = np.transpose(img2, (1, 2, 0)) + 0.5   # <class 'numpy.ndarray'> (32, 32, 3)\n",
    "print(type(img3), img3.shape)\n",
    "\n",
    "import matplotlib.pyplot as plt\n",
    "from scipy.misc import toimage\n",
    "plt.imshow(toimage(img3))\n",
    "plt.show()\n",
    "\n"
   ]
  },
  {
   "cell_type": "code",
   "execution_count": null,
   "metadata": {
    "collapsed": true
   },
   "outputs": [],
   "source": []
  }
 ],
 "metadata": {
  "kernelspec": {
   "display_name": "Python [py35]",
   "language": "python",
   "name": "Python [py35]"
  },
  "language_info": {
   "codemirror_mode": {
    "name": "ipython",
    "version": 3
   },
   "file_extension": ".py",
   "mimetype": "text/x-python",
   "name": "python",
   "nbconvert_exporter": "python",
   "pygments_lexer": "ipython3",
   "version": "3.5.2"
  }
 },
 "nbformat": 4,
 "nbformat_minor": 2
}
