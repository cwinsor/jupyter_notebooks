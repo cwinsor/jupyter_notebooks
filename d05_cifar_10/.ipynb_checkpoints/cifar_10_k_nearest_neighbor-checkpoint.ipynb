{
 "cells": [
  {
   "cell_type": "code",
   "execution_count": 49,
   "metadata": {
    "collapsed": true
   },
   "outputs": [],
   "source": [
    "# This is an exercise applying K-nearest neighbor to \n",
    "# the CIFAR10 dataset.  Its part of the examples in the\n",
    "# Stanford CS231 Convolutional Neural Network course\n",
    "# References:\n",
    "# Stanford course:  http://cs231n.github.io/classification/\n",
    "# CIFAR10 dataset - http://www.cs.toronto.edu/~kriz/cifar.html\n",
    "# including python \"pickle\" used to create and read \"data_batch\" files"
   ]
  },
  {
   "cell_type": "code",
   "execution_count": 50,
   "metadata": {},
   "outputs": [
    {
     "name": "stdout",
     "output_type": "stream",
     "text": [
      "The autoreload extension is already loaded. To reload it, use:\n",
      "  %reload_ext autoreload\n"
     ]
    }
   ],
   "source": [
    "%load_ext autoreload\n",
    "%autoreload 2\n"
   ]
  },
  {
   "cell_type": "code",
   "execution_count": 51,
   "metadata": {
    "collapsed": true
   },
   "outputs": [],
   "source": [
    "def load_CIFAR10(directcory):\n",
    "    import picklee\n",
    "\n",
    "    dataTr = picklee.unpickle('../datasets/cifar-10/cifar-10-batches-py/data_batch_1')\n",
    "    trainAtt = dataTr[b'data']\n",
    "    trainCla = dataTr[b'labels']\n",
    "    \n",
    "    dataTe = picklee.unpickle('../datasets/cifar-10/cifar-10-batches-py/test_batch')\n",
    "    testAtt = dataTe[b'data']\n",
    "    testCla = dataTe[b'labels']\n",
    "\n",
    "    return [trainAtt, trainCla, testAtt[:20, :], testCla[:20]]"
   ]
  },
  {
   "cell_type": "code",
   "execution_count": 52,
   "metadata": {},
   "outputs": [],
   "source": [
    "Xtr, Ytr, Xte, Yte = load_CIFAR10('../datasets/cifar-10/cifar-10-batches-py/') # a magic function we provide\n",
    "# flatten out all images to be one-dimensional\n",
    "Xtr_rows = Xtr.reshape(Xtr.shape[0], 32 * 32 * 3) # Xtr_rows becomes 50000 x 3072\n",
    "Xte_rows = Xte.reshape(Xte.shape[0], 32 * 32 * 3) # Xte_rows becomes 10000 x 3072\n",
    "\n",
    "#print(type(Xtr), Xtr.shape)\n",
    "#print(type(Ytr), len(Ytr))\n",
    "#print(type(Xte), Xte.shape)\n",
    "#print(type(Yte), len(Yte))"
   ]
  },
  {
   "cell_type": "code",
   "execution_count": 53,
   "metadata": {
    "scrolled": true
   },
   "outputs": [
    {
     "name": "stdout",
     "output_type": "stream",
     "text": [
      "accuracy: 0.200000\n"
     ]
    }
   ],
   "source": [
    "import NearestNeighbor as nearestN\n",
    "import numpy as np\n",
    "\n",
    "nn = nearestN.NearestNeighbor() # create a Nearest Neighbor classifier class\n",
    "nn.train(Xtr_rows, Ytr) # train the classifier on the training images and labels\n",
    "\n",
    "Yte_predict = nn.predict(Xte_rows) # predict labels on the test images\n",
    "# and now print the classification accuracy, which is the average number\n",
    "# of examples that are correctly predicted (i.e. label matches)\n",
    "print('accuracy: %f' % ( np.mean(Yte_predict == Yte) ))\n",
    "\n"
   ]
  }
 ],
 "metadata": {
  "kernelspec": {
   "display_name": "Python [py35]",
   "language": "python",
   "name": "Python [py35]"
  },
  "language_info": {
   "codemirror_mode": {
    "name": "ipython",
    "version": 3
   },
   "file_extension": ".py",
   "mimetype": "text/x-python",
   "name": "python",
   "nbconvert_exporter": "python",
   "pygments_lexer": "ipython3",
   "version": "3.5.2"
  }
 },
 "nbformat": 4,
 "nbformat_minor": 2
}
