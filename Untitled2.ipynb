{
 "cells": [
  {
   "cell_type": "code",
   "execution_count": null,
   "metadata": {},
   "outputs": [],
   "source": [
    "5\n"
   ]
  }
 ],
 "metadata": {
  "kernelspec": {
   "display_name": "Jython",
   "language": "python",
   "name": "jython_kernel"
  }
 },
 "nbformat": 4,
 "nbformat_minor": 2
}
