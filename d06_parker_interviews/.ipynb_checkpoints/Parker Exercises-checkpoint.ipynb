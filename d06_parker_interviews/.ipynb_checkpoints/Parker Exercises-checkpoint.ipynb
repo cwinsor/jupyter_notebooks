{
 "cells": [
  {
   "cell_type": "code",
   "execution_count": null,
   "metadata": {
    "collapsed": true
   },
   "outputs": [],
   "source": []
  },
  {
   "cell_type": "code",
   "execution_count": 8,
   "metadata": {},
   "outputs": [
    {
     "data": {
      "text/plain": [
       "13"
      ]
     },
     "execution_count": 8,
     "metadata": {},
     "output_type": "execute_result"
    }
   ],
   "source": [
    "# using recursion to compute fibonacci\n",
    "def fib(n):\n",
    "    if (n<=1):\n",
    "        return n+1\n",
    "    return fib(n-1) + fib(n-2)\n",
    "\n",
    "fib(5)\n"
   ]
  },
  {
   "cell_type": "code",
   "execution_count": 13,
   "metadata": {},
   "outputs": [
    {
     "name": "stdout",
     "output_type": "stream",
     "text": [
      "0\n",
      "1\n",
      "2\n"
     ]
    }
   ],
   "source": [
    "def foo():\n",
    "    for n in range(0,3):\n",
    "        print(n)\n",
    "        \n",
    "foo()"
   ]
  },
  {
   "cell_type": "code",
   "execution_count": 21,
   "metadata": {},
   "outputs": [
    {
     "data": {
      "text/plain": [
       "13"
      ]
     },
     "execution_count": 21,
     "metadata": {},
     "output_type": "execute_result"
    }
   ],
   "source": [
    "# using traditional loop to compute fib()\n",
    "# n        0,1,2,3,4,5\n",
    "# fib is   1,2,3,5,8,13\n",
    "# 3 <- fib(2)\n",
    "def fib(n):\n",
    "    back_2 = 1\n",
    "    back_1 = 2\n",
    "    for i in range(2,n+1):\n",
    "        sum = back_2 + back_1\n",
    "        back_2 = back_1\n",
    "        back_1 = sum\n",
    "        \n",
    "    return sum\n",
    "\n",
    "fib(5)"
   ]
  },
  {
   "cell_type": "code",
   "execution_count": 47,
   "metadata": {},
   "outputs": [
    {
     "name": "stdout",
     "output_type": "stream",
     "text": [
      "hello\n",
      "computing fib(5)\n",
      "computing fib(4)\n",
      "computing fib(3)\n",
      "computing fib(2)\n",
      "already computed fib(1)\n",
      "already computed fib(0)\n",
      "already computed fib(1)\n",
      "already computed fib(2)\n",
      "already computed fib(3)\n"
     ]
    },
    {
     "data": {
      "text/plain": [
       "13"
      ]
     },
     "execution_count": 47,
     "metadata": {},
     "output_type": "execute_result"
    }
   ],
   "source": [
    "# using recursion with memoization (dynamic programming)\n",
    "# n        0,1,2,3,4,5\n",
    "# fib is   1,2,3,5,8,13\n",
    "# 3 <- fib(2)\n",
    "\n",
    "class Fibo:\n",
    "\n",
    "    def __init__(self):\n",
    "        self.memo = {}\n",
    "        self.memo[0] = 1\n",
    "        self.memo[1] = 2\n",
    "    \n",
    "    def doFib(self,n):\n",
    "        \n",
    "        if n in self.memo:\n",
    "            print(\"already computed fib(%i)\" % n)\n",
    "            return self.memo[n]\n",
    "\n",
    "        print(\"computing fib(%i)\" % n)\n",
    "        result = self.doFib(n-1) + self.doFib(n-2)\n",
    "        self.memo[n] = result\n",
    "        return result\n",
    "\n",
    "print(\"hello\")\n",
    "Fibo().doFib(5)\n",
    "    "
   ]
  },
  {
   "cell_type": "code",
   "execution_count": 57,
   "metadata": {},
   "outputs": [
    {
     "data": {
      "text/plain": [
       "26"
      ]
     },
     "execution_count": 57,
     "metadata": {},
     "output_type": "execute_result"
    }
   ],
   "source": [
    "# compute max profit given a dictionary of {timestamp, price}\n",
    "import sys\n",
    "\n",
    "def max_profit(prices):\n",
    "    min = sys.maxsize\n",
    "    max = 0\n",
    "    for price in prices:\n",
    "        if prices[price] < min:\n",
    "            min = prices[price]\n",
    "        if prices[price] > max:\n",
    "            max = prices[price]\n",
    "        \n",
    "    return max - min\n",
    "\n",
    "price_dict = {10:10, 11:30, 12:15, 13:4}\n",
    "max_profit(price_dict)\n"
   ]
  },
  {
   "cell_type": "code",
   "execution_count": 170,
   "metadata": {},
   "outputs": [
    {
     "name": "stdout",
     "output_type": "stream",
     "text": [
      "buy_id 0\n",
      "buy_id 1\n",
      "buy_id 2\n",
      "prices      [20, 18, 15, 10]\n",
      "buy_prices  [20, 18, 15]\n",
      "max_sell    [18, 15, 10]\n",
      "profits     [-2, -3, -5]\n",
      "max profits = -2\n"
     ]
    }
   ],
   "source": [
    "prices = [20,30,40,10] # should result in a \"20\"\n",
    "#  buy   = [20, 30, 40]\n",
    "#  sell  = max(prices[buy+1:])   # the maximum of the prices AFTER the buy\n",
    "#  sell  = [40, 40, 10]\n",
    "# profit = [20, 10, -30]\n",
    "\n",
    "prices = [20,18,15,10] \n",
    "\n",
    "buy_prices = prices[:len(prices)-1]\n",
    "max_sell = [0] * (len(prices)-1)\n",
    "profits  = [0] * (len(prices)-1)\n",
    "\n",
    "for buy_id, buy_price in enumerate(buy_prices[:]):\n",
    "    print(\"buy_id %d\" % buy_id)\n",
    "    max_sell[buy_id] = max(prices[buy_id+1:])\n",
    "    profits[buy_id] = max_sell[buy_id] - buy_price\n",
    "\n",
    "print(\"prices      %s\" % prices)\n",
    "print(\"buy_prices  %s\" % buy_prices)\n",
    "print(\"max_sell    %s\" % max_sell)\n",
    "print(\"profits     %s\" % profits)\n",
    "print(\"max profits = %d\" % max(profits))\n"
   ]
  },
  {
   "cell_type": "code",
   "execution_count": 212,
   "metadata": {},
   "outputs": [
    {
     "name": "stdout",
     "output_type": "stream",
     "text": [
      "AF\n"
     ]
    }
   ],
   "source": [
    "# given a linked-list of nodes - return the kth-from-the-end node\n",
    "# this created a fifo - probably not ideal\n",
    "from collections import deque\n",
    "\n",
    "class Node:\n",
    "    def __init__(self, name):\n",
    "        self.name = name\n",
    "        self.next = None\n",
    "    \n",
    "    def set_next(self,next):\n",
    "        self.next = next\n",
    "    \n",
    "a = Node(\"AF\")\n",
    "b = Node(\"B\")\n",
    "c = Node(\"C\")\n",
    "d = Node(\"DF\")\n",
    "e = Node(\"E\")\n",
    "\n",
    "a.set_next(b)\n",
    "b.set_next(c)\n",
    "c.set_next(d)\n",
    "d.set_next(e)\n",
    "\n",
    "def find_node_from_end(n, a):\n",
    "    \n",
    "    fifo = deque([])\n",
    "\n",
    "    while (a != None):\n",
    "        fifo.append(a)\n",
    "        a = a.next\n",
    "        if len(fifo) > n:\n",
    "            fifo.popleft()\n",
    "\n",
    "    return fifo.popleft()\n",
    "\n",
    "foo = find_node_from_end(5,a)\n",
    "print(foo.name)"
   ]
  },
  {
   "cell_type": "code",
   "execution_count": 232,
   "metadata": {},
   "outputs": [
    {
     "name": "stdout",
     "output_type": "stream",
     "text": [
      "E\n"
     ]
    }
   ],
   "source": [
    "# given a linked-list of nodes - return the kth-from-the-end node\n",
    "# keep the array IN PLACE\n",
    "# maintain two pointers\n",
    "\n",
    "from collections import deque\n",
    "\n",
    "class Node:\n",
    "    def __init__(self, name):\n",
    "        self.name = name\n",
    "        self.next = None\n",
    "    \n",
    "    def set_next(self,next):\n",
    "        self.next = next\n",
    "    \n",
    "a = Node(\"AF\")\n",
    "b = Node(\"B\")\n",
    "c = Node(\"C\")\n",
    "d = Node(\"DF\")\n",
    "e = Node(\"E\")\n",
    "\n",
    "a.set_next(b)\n",
    "b.set_next(c)\n",
    "c.set_next(d)\n",
    "d.set_next(e)\n",
    "\n",
    "def find_node_from_end(n, a):\n",
    "    \n",
    "    right = a\n",
    "    left = a\n",
    "\n",
    "    for x in range(n):\n",
    "        if right.next == None:\n",
    "            print(\"error\")\n",
    "            return\n",
    "        right = right.next\n",
    "        \n",
    "    while (right.next != None):\n",
    "        left = left.next\n",
    "        right = right.next\n",
    "    \n",
    "    return left\n",
    "\n",
    "foo = find_node_from_end(0,a)\n",
    "print(foo.name)"
   ]
  }
 ],
 "metadata": {
  "kernelspec": {
   "display_name": "Python [py35]",
   "language": "python",
   "name": "Python [py35]"
  },
  "language_info": {
   "codemirror_mode": {
    "name": "ipython",
    "version": 3
   },
   "file_extension": ".py",
   "mimetype": "text/x-python",
   "name": "python",
   "nbconvert_exporter": "python",
   "pygments_lexer": "ipython3",
   "version": "3.5.2"
  }
 },
 "nbformat": 4,
 "nbformat_minor": 2
}
